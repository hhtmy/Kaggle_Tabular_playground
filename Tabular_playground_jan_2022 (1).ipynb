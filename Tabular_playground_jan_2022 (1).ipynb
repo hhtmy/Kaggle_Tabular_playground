{
  "cells": [
    {
      "cell_type": "code",
      "execution_count": null,
      "metadata": {
        "id": "preceding-vision"
      },
      "outputs": [],
      "source": [
        "import pandas as pd\n",
        "import seaborn as sns\n",
        "import matplotlib.pyplot as plt\n",
        "import numpy as np\n",
        "from sklearn.model_selection import train_test_split"
      ],
      "id": "preceding-vision"
    },
    {
      "cell_type": "code",
      "execution_count": null,
      "metadata": {
        "colab": {
          "base_uri": "https://localhost:8080/"
        },
        "id": "mechanical-obligation",
        "outputId": "bc2a5493-a22c-4c1c-9cc7-77ea8dcc5c4e"
      },
      "outputs": [
        {
          "output_type": "execute_result",
          "data": {
            "text/plain": [
              "Index(['date_2015-01-01', 'date_2015-01-02', 'date_2015-01-03',\n",
              "       'date_2015-01-04', 'date_2015-01-05', 'date_2015-01-06',\n",
              "       'date_2015-01-07', 'date_2015-01-08', 'date_2015-01-09',\n",
              "       'date_2015-01-10',\n",
              "       ...\n",
              "       'date_2019-12-30', 'date_2019-12-31', 'country_Finland',\n",
              "       'country_Norway', 'country_Sweden', 'store_KaggleMart',\n",
              "       'store_KaggleRama', 'product_Kaggle Hat', 'product_Kaggle Mug',\n",
              "       'product_Kaggle Sticker'],\n",
              "      dtype='object', length=1834)"
            ]
          },
          "metadata": {},
          "execution_count": 72
        }
      ],
      "source": [
        "train=pd.read_csv('/content/train.csv')\n",
        "\n",
        "test=pd.read_csv('/content/test.csv')\n",
        "\n",
        "df=pd.concat((train.iloc[:,1:-1],test.iloc[:,1:]))\n",
        "df=pd.get_dummies(df)\n",
        "df.columns"
      ],
      "id": "mechanical-obligation"
    },
    {
      "cell_type": "code",
      "execution_count": null,
      "metadata": {
        "colab": {
          "base_uri": "https://localhost:8080/"
        },
        "id": "XQtGrA01gGAr",
        "outputId": "0a1748ec-997d-4429-9383-a8fcada4ad4f"
      },
      "outputs": [
        {
          "output_type": "execute_result",
          "data": {
            "text/plain": [
              "(26298, 1834)"
            ]
          },
          "metadata": {},
          "execution_count": 73
        }
      ],
      "source": [
        "train_1=train.shape[0]\n",
        "x=df[:train_1]\n",
        "y=train['num_sold']\n",
        "y=np.log1p(y)\n",
        "#x=x[['country_Norway', 'country_Sweden','store_KaggleRama', 'product_Kaggle Hat','product_Kaggle Mug']]\n",
        "\n",
        "test_set=df[train_1:]\n",
        "#test_set=test_set[['country_Norway', 'country_Sweden','store_KaggleRama', 'product_Kaggle Hat','product_Kaggle Mug']]\n",
        "x.shape"
      ],
      "id": "XQtGrA01gGAr"
    },
    {
      "cell_type": "code",
      "execution_count": null,
      "metadata": {
        "colab": {
          "base_uri": "https://localhost:8080/"
        },
        "id": "BSEUeuYbkjkj",
        "outputId": "0b3daedc-13fd-4660-b760-dfc3de97dd9c"
      },
      "outputs": [
        {
          "output_type": "execute_result",
          "data": {
            "text/plain": [
              "(26298,)"
            ]
          },
          "metadata": {},
          "execution_count": 75
        }
      ],
      "source": [
        "y.shape"
      ],
      "id": "BSEUeuYbkjkj"
    },
    {
      "cell_type": "code",
      "execution_count": null,
      "metadata": {
        "colab": {
          "base_uri": "https://localhost:8080/"
        },
        "id": "PzCIlfGLklxu",
        "outputId": "295c88d8-edf2-48b0-bdb7-1fd8e5d4aceb"
      },
      "outputs": [
        {
          "output_type": "execute_result",
          "data": {
            "text/plain": [
              "(6570, 1834)"
            ]
          },
          "metadata": {},
          "execution_count": 76
        }
      ],
      "source": [
        "test_set.shape"
      ],
      "id": "PzCIlfGLklxu"
    },
    {
      "cell_type": "code",
      "source": [
        "plt.figure(figsize=(10,8))\n",
        "sns.scatterplot(data=train,x='date',y='num_sold')\n",
        "plt.show()"
      ],
      "metadata": {
        "id": "TKFtbyLdatxa"
      },
      "id": "TKFtbyLdatxa",
      "execution_count": null,
      "outputs": []
    },
    {
      "cell_type": "code",
      "execution_count": null,
      "metadata": {
        "id": "valuable-wales"
      },
      "outputs": [],
      "source": [
        "train.head()"
      ],
      "id": "valuable-wales"
    },
    {
      "cell_type": "code",
      "execution_count": null,
      "metadata": {
        "id": "otherwise-coordinate"
      },
      "outputs": [],
      "source": [
        "test.head()"
      ],
      "id": "otherwise-coordinate"
    },
    {
      "cell_type": "code",
      "execution_count": null,
      "metadata": {
        "id": "violent-mortgage"
      },
      "outputs": [],
      "source": [
        "train.columns"
      ],
      "id": "violent-mortgage"
    },
    {
      "cell_type": "code",
      "execution_count": null,
      "metadata": {
        "id": "academic-beginning"
      },
      "outputs": [],
      "source": [
        "train.info()"
      ],
      "id": "academic-beginning"
    },
    {
      "cell_type": "code",
      "execution_count": null,
      "metadata": {
        "id": "animated-genetics"
      },
      "outputs": [],
      "source": [
        "import tensorflow as tf\n",
        "from tensorflow import feature_column\n",
        "from tensorflow.keras import layers\n",
        "from tensorflow.keras.layers import DenseFeatures,Dropout\n",
        "from tensorflow.keras.optimizers import Adam\n",
        "from sklearn.preprocessing import StandardScaler"
      ],
      "id": "animated-genetics"
    },
    {
      "cell_type": "code",
      "execution_count": null,
      "metadata": {
        "id": "RRaUDigCgh9p"
      },
      "outputs": [],
      "source": [],
      "id": "RRaUDigCgh9p"
    },
    {
      "cell_type": "code",
      "execution_count": null,
      "metadata": {
        "id": "proper-spring"
      },
      "outputs": [],
      "source": [
        "x=train.drop(['row_id','num_sold'],axis=1)\n",
        "y=train['num_sold']"
      ],
      "id": "proper-spring"
    },
    {
      "cell_type": "markdown",
      "metadata": {
        "id": "wQdwex20h-C9"
      },
      "source": [],
      "id": "wQdwex20h-C9"
    },
    {
      "cell_type": "code",
      "execution_count": null,
      "metadata": {
        "id": "experienced-pacific"
      },
      "outputs": [],
      "source": [
        "x_train,x_test,y_train,y_test=train_test_split(x,y,test_size=0.2,random_state=32)\n",
        "standard_scaler = StandardScaler()\n",
        "x_train_scaled = pd.DataFrame(\n",
        "      standard_scaler.fit_transform(x_train),\n",
        "      columns=x_train.columns\n",
        "  )\n",
        "x_test_scaled = pd.DataFrame(\n",
        "      standard_scaler.transform(x_test),\n",
        "      columns = x_test.columns\n",
        "  )\n",
        "test_set_scaled = pd.DataFrame(\n",
        "      standard_scaler.transform(test_set),\n",
        "      columns = test_set.columns\n",
        "  )\n",
        "\n"
      ],
      "id": "experienced-pacific"
    },
    {
      "cell_type": "code",
      "execution_count": null,
      "metadata": {
        "id": "federal-spotlight"
      },
      "outputs": [],
      "source": [
        "hidden_units1 = 200\n",
        "hidden_units2 = 300\n",
        "hidden_units3 = 150\n",
        "learning_rate = 0.01\n",
        "# Creating model using the Sequential in tensorflow\n",
        "def build_model_using_sequential():\n",
        "  model = tf.keras.models.Sequential([                             \n",
        "    tf.keras.layers.Dense(hidden_units1,  activation='relu'),\n",
        "    tf.keras.layers.Dropout(0.2),\n",
        "    tf.keras.layers.Dense(hidden_units2,  activation='relu'),\n",
        "    Dropout(0.2),\n",
        "    tf.keras.layers.Dense(hidden_units3,  activation='relu'),\n",
        "    tf.keras.layers.Dense(1, activation='linear')\n",
        "  ])\n",
        "  return model\n",
        "# build the model\n",
        "model = build_model_using_sequential()"
      ],
      "id": "federal-spotlight"
    },
    {
      "cell_type": "code",
      "execution_count": null,
      "metadata": {
        "id": "convenient-thanks"
      },
      "outputs": [],
      "source": [
        "from tensorflow.keras.losses import MeanSquaredError\n",
        "mse=MeanSquaredError()\n",
        "model.compile(loss=mse,optimizer=Adam(lr=0.01))\n",
        "# train the model\n",
        "history = model.fit(\n",
        "    x_train_scaled.values, \n",
        "    y_train.values, \n",
        "    epochs=30,\n",
        "    batch_size=64,\n",
        "    validation_split=0.2\n",
        ")"
      ],
      "id": "convenient-thanks"
    },
    {
      "cell_type": "code",
      "execution_count": null,
      "metadata": {
        "id": "first-swedish"
      },
      "outputs": [],
      "source": [
        "y_hat = model.predict(x_test_scaled)"
      ],
      "id": "first-swedish"
    },
    {
      "cell_type": "code",
      "execution_count": null,
      "metadata": {
        "id": "dimensional-continuity"
      },
      "outputs": [],
      "source": [
        "from sklearn.metrics import r2_score\n",
        "print(r2_score(y_test,y_hat))"
      ],
      "id": "dimensional-continuity"
    },
    {
      "cell_type": "code",
      "execution_count": null,
      "metadata": {
        "id": "GhgdlVZ0dTk_"
      },
      "outputs": [],
      "source": [
        "y_pred=model.predict(test_set_scaled)"
      ],
      "id": "GhgdlVZ0dTk_"
    },
    {
      "cell_type": "code",
      "execution_count": null,
      "metadata": {
        "id": "KwvFmSsLmQUU"
      },
      "outputs": [],
      "source": [],
      "id": "KwvFmSsLmQUU"
    },
    {
      "cell_type": "code",
      "execution_count": null,
      "metadata": {
        "id": "_qfiNTUOdcBS"
      },
      "outputs": [],
      "source": [
        "test['num_sold']=pd.Series(y_pred.reshape(1,-1)[0])\n",
        "submission=pd.concat([test['row_id'],test['num_sold']],axis=1)\n",
        "submission.to_csv('submission6.csv',index=False)"
      ],
      "id": "_qfiNTUOdcBS"
    },
    {
      "cell_type": "code",
      "execution_count": null,
      "metadata": {
        "id": "defined-arcade"
      },
      "outputs": [],
      "source": [
        "#x_df=train.drop(['row_id'],axis=1)\n",
        "#x_df=pd.get_dummies(x_df)"
      ],
      "id": "defined-arcade"
    },
    {
      "cell_type": "code",
      "execution_count": null,
      "metadata": {
        "id": "accomplished-casting"
      },
      "outputs": [],
      "source": [
        "#x_df.columns"
      ],
      "id": "accomplished-casting"
    },
    {
      "cell_type": "code",
      "execution_count": null,
      "metadata": {
        "id": "hairy-laser"
      },
      "outputs": [],
      "source": [
        "x=x_df\n",
        "y=x_df['num_sold']\n",
        "y=np.lop1p(y)"
      ],
      "id": "hairy-laser"
    },
    {
      "cell_type": "code",
      "execution_count": null,
      "metadata": {
        "id": "fPffOK-8pdxr"
      },
      "outputs": [],
      "source": [
        "plt.figure(figsize=(10,8))\n",
        "sns.heatmap(x_df.corr(),annot=True)\n",
        "plt.show()"
      ],
      "id": "fPffOK-8pdxr"
    },
    {
      "cell_type": "code",
      "execution_count": null,
      "metadata": {
        "id": "successful-component"
      },
      "outputs": [],
      "source": [
        "x_train,x_test,y_train,y_test=train_test_split(x,y,test_size=0.2,random_state=32)"
      ],
      "id": "successful-component"
    },
    {
      "cell_type": "code",
      "execution_count": null,
      "metadata": {
        "id": "convertible-kingston"
      },
      "outputs": [],
      "source": [
        "plt.figure(figsize=(10,8))\n",
        "sns.scatterplot(data=x_df,x='product_Kaggle Hat',y='num_sold',palette='crest')\n",
        "plt.show()"
      ],
      "id": "convertible-kingston"
    },
    {
      "cell_type": "code",
      "execution_count": null,
      "metadata": {
        "id": "statutory-blair"
      },
      "outputs": [],
      "source": [
        "plt.figure(figsize=(10,8))\n",
        "sns.scatterplot(data=x_df,x='store_KaggleRama',y='num_sold',palette='crest')\n",
        "plt.show()"
      ],
      "id": "statutory-blair"
    },
    {
      "cell_type": "code",
      "execution_count": null,
      "metadata": {
        "id": "sweet-substitute"
      },
      "outputs": [],
      "source": [
        "plt.figure(figsize=(10,8))\n",
        "sns.scatterplot(data=x_df,x='country_Norway',y='num_sold',palette='crest')\n",
        "plt.show()"
      ],
      "id": "sweet-substitute"
    },
    {
      "cell_type": "code",
      "execution_count": null,
      "metadata": {
        "id": "interesting-franklin"
      },
      "outputs": [],
      "source": [
        "x_df['num_sold'].head()"
      ],
      "id": "interesting-franklin"
    },
    {
      "cell_type": "code",
      "execution_count": null,
      "metadata": {
        "id": "dressed-venice"
      },
      "outputs": [],
      "source": [
        "from sklearn.linear_model import LinearRegression\n",
        "from sklearn.metrics import r2_score\n",
        "lr=LinearRegression()\n",
        "lr.fit(x_train,y_train)\n",
        "y_hat1=lr.predict(x_test)\n",
        "print(r2_score(y_test,y_hat1))"
      ],
      "id": "dressed-venice"
    },
    {
      "cell_type": "code",
      "execution_count": null,
      "metadata": {
        "id": "intense-unemployment"
      },
      "outputs": [],
      "source": [
        "from sklearn.tree import DecisionTreeRegressor\n",
        "from sklearn.metrics import r2_score\n",
        "dt=DecisionTreeRegressor(max_depth=4,random_state=32)\n",
        "dt.fit(x_train,y_train)\n",
        "y_hat2=dt.predict(x_test)\n",
        "print(r2_score(y_test,y_hat2))"
      ],
      "id": "intense-unemployment"
    },
    {
      "cell_type": "code",
      "execution_count": null,
      "metadata": {
        "id": "effective-prototype"
      },
      "outputs": [],
      "source": [
        "from sklearn.ensemble import RandomForestRegressor\n",
        "rf=RandomForestRegressor(n_estimators=500,max_leaf_nodes=16,n_jobs=-1)\n",
        "rf.fit(x_train,y_train)\n",
        "y_hat3=rf.predict(x_test)\n",
        "print(r2_score(y_test,y_hat3))"
      ],
      "id": "effective-prototype"
    },
    {
      "cell_type": "code",
      "execution_count": null,
      "metadata": {
        "colab": {
          "base_uri": "https://localhost:8080/"
        },
        "id": "infinite-headquarters",
        "outputId": "8fe1de40-88a8-4af2-d5ae-5f9bda957724"
      },
      "outputs": [
        {
          "output_type": "stream",
          "name": "stdout",
          "text": [
            "0.9132767148848641\n"
          ]
        }
      ],
      "source": [
        "from sklearn.ensemble import GradientBoostingRegressor\n",
        "gb=GradientBoostingRegressor(max_depth=4,n_estimators=120,random_state=32)\n",
        "gb.fit(x_train,y_train)\n",
        "y_hat4=gb.predict(x_test)\n",
        "print(r2_score(y_test,y_hat4))"
      ],
      "id": "infinite-headquarters"
    },
    {
      "cell_type": "code",
      "execution_count": null,
      "metadata": {
        "id": "guilty-tolerance"
      },
      "outputs": [],
      "source": [
        "from sklearn.ensemble import AdaBoostRegressor\n",
        "ada=AdaBoostRegressor(DecisionTreeRegressor(),n_estimators=200,learning_rate=0.01)\n",
        "ada.fit(x_train,y_train)\n",
        "y_hat5=ada.predict(x_test)\n",
        "print(r2_score(y_test,y_hat5))"
      ],
      "id": "guilty-tolerance"
    },
    {
      "cell_type": "code",
      "execution_count": null,
      "metadata": {
        "colab": {
          "base_uri": "https://localhost:8080/"
        },
        "id": "historical-lease",
        "outputId": "45b33b84-9829-4d4e-ddfc-5e54cc0514fa"
      },
      "outputs": [
        {
          "output_type": "stream",
          "name": "stdout",
          "text": [
            "[08:17:16] WARNING: /workspace/src/objective/regression_obj.cu:152: reg:linear is now deprecated in favor of reg:squarederror.\n",
            "0.9091926736331554\n"
          ]
        }
      ],
      "source": [
        "import xgboost\n",
        "from xgboost import XGBRegressor\n",
        "xgb=XGBRegressor()\n",
        "xgb.fit(x_train,y_train)\n",
        "y_hat6=xgb.predict(x_test)\n",
        "print(r2_score(y_test,y_hat6))"
      ],
      "id": "historical-lease"
    },
    {
      "cell_type": "code",
      "execution_count": null,
      "metadata": {
        "id": "legendary-carpet"
      },
      "outputs": [],
      "source": [],
      "id": "legendary-carpet"
    },
    {
      "cell_type": "code",
      "execution_count": null,
      "metadata": {
        "id": "0SdkvRg6q4RK"
      },
      "outputs": [],
      "source": [
        "test=pd.get_dummies(test)\n",
        "test.columns\n",
        "\n",
        "      "
      ],
      "id": "0SdkvRg6q4RK"
    },
    {
      "cell_type": "code",
      "execution_count": null,
      "metadata": {
        "id": "judicial-layout"
      },
      "outputs": [],
      "source": [
        "y_pred=gb.predict(test_set)\n",
        "test['num_sold']=pd.Series(y_pred.reshape(1,-1)[0])\n",
        "submission=pd.concat([test['row_id'],test['num_sold']],axis=1)\n",
        "submission.to_csv('submission7.csv',index=False)"
      ],
      "id": "judicial-layout"
    },
    {
      "cell_type": "code",
      "execution_count": null,
      "metadata": {
        "id": "essential-assurance"
      },
      "outputs": [],
      "source": [],
      "id": "essential-assurance"
    },
    {
      "cell_type": "code",
      "execution_count": null,
      "metadata": {
        "id": "geographic-thirty"
      },
      "outputs": [],
      "source": [],
      "id": "geographic-thirty"
    },
    {
      "cell_type": "code",
      "execution_count": null,
      "metadata": {
        "id": "north-antique"
      },
      "outputs": [],
      "source": [],
      "id": "north-antique"
    }
  ],
  "metadata": {
    "accelerator": "GPU",
    "colab": {
      "provenance": []
    },
    "kernelspec": {
      "display_name": "Python 3",
      "language": "python",
      "name": "python3"
    },
    "language_info": {
      "codemirror_mode": {
        "name": "ipython",
        "version": 3
      },
      "file_extension": ".py",
      "mimetype": "text/x-python",
      "name": "python",
      "nbconvert_exporter": "python",
      "pygments_lexer": "ipython3",
      "version": "3.9.0"
    }
  },
  "nbformat": 4,
  "nbformat_minor": 5
}